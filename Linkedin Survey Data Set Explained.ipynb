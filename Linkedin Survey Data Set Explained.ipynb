{
  "metadata": {
    "kernelspec": {
      "language": "python",
      "display_name": "Python 3",
      "name": "python3"
    },
    "language_info": {
      "name": "python",
      "version": "3.11.11",
      "mimetype": "text/x-python",
      "codemirror_mode": {
        "name": "ipython",
        "version": 3
      },
      "pygments_lexer": "ipython3",
      "nbconvert_exporter": "python",
      "file_extension": ".py"
    },
    "kaggle": {
      "accelerator": "none",
      "dataSources": [],
      "dockerImageVersionId": 31040,
      "isInternetEnabled": true,
      "language": "python",
      "sourceType": "notebook",
      "isGpuEnabled": false
    },
    "colab": {
      "provenance": [],
      "collapsed_sections": [
        "EhmsMWRaqoI4"
      ]
    }
  },
  "nbformat_minor": 0,
  "nbformat": 4,
  "cells": [
    {
      "cell_type": "markdown",
      "source": [
        "# #  Survey Analysis Dashboard | Power BI"
      ],
      "metadata": {
        "id": "ccrI49QVqoI2"
      }
    },
    {
      "cell_type": "markdown",
      "source": [
        "# ****Dataset Overview – LinkedIn Survey of Data Professionals****\n",
        "\n",
        "# **Overview**\n",
        "\n",
        "The dataset is derived from a LinkedIn-based survey targeting professionals in the data field, including Data Analysts, Data Scientists, Data Engineers, and others. It provides valuable insights into career trends, salary expectations, educational backgrounds, and tool preferences among respondents.\n",
        "\n",
        "This dataset originates from Alex Freberg's Power BI tutorial project (credits and links provided in the video description). It serves as an excellent resource for beginners looking to build standalone visualization projects using Power BI or Tableau. The dataset allows users to showcase data storytelling, interactive dashboard design, and visualization skills effectively;\n",
        "\n",
        "Skills which can be displayed;\n",
        "\n",
        "•Data transformation using Power Query\n",
        "•Data cleaning using Power BI(unstandardized information,missing data,unnecessary and empty columns)\n",
        "•Usage of DAX formulas for Data Exploration\n",
        "\n",
        "# **Key Columns in the Dataset:**\n",
        "\n",
        "Dataset contains a wide range of valuable information, some columns (such as \"Email,\" \"City,\" and \"Referrer\") are intentionally left blank or contain incomplete data, as they are either not essential for analysis or were anonymized to protect respondent privacy. These fields can typically be excluded during data cleaning and preprocessing stages without impacting the integrity of the insights drawn from the core survey questions.\n",
        "\n",
        "Timestamp\n",
        "\n",
        "*   Timestamp\n",
        "*   Email\n",
        "*   Date Taken (America/New_York)\n",
        "*   Time Taken (America/New_York)\n",
        "*   Browser\n",
        "*   OS\n",
        "*   City\n",
        "*   Country\n",
        "*   Referrer\n",
        "*  Q1 - Which Title Best Fits your Current Role?\n",
        "*  Q2 - Did you switch careers into Data?\n",
        "*  Q3 - Current Yearly Salary (in USD)\n",
        "*  Q4 - What Industry do you work in?\n",
        "*  Q5 - Favorite Programming Language\n",
        "*  Q6 How Happy are you in your Current Position with the following? (Salary)\n",
        "*  Q6 - Happy are you in your Current Position with the following? (Coworkers)\n",
        "*  Q6 - How Happy are you in your Current Position with the following? (Management)\n",
        "*  Q6 - How Happy are you in your Current Position with the following? (Upward Mobility)\n",
        "*  Q6 - How Happy are you in your Current Position with the following? (Learning New Things)\n",
        "* Q7 - How difficult was it for you to break into Data?\n",
        "* Q8 - If you were to look for a new job today, what would be the most important thing to you?\n",
        "* Q9 - Male/Female?\n",
        "* Q10 - Current Age\n",
        "* Q11 - Which Country do you live in?\n",
        "* Q12 - Highest Level of Education\n",
        "* Q13 - Ethnicity\n",
        "\n",
        "**Purpose of the Dataset:**\n",
        "\n",
        "To explore career dynamics and compensation trends in the data industry.\n",
        "To understand how skills, tools, education, and location correlate with salaries and satisfaction.\n",
        "\n",
        "Credits:\n",
        "Power BI Portfolio Project by Alex The Analyst:\n",
        "https://www.youtube.com/watch?v=I0vQ_VLZTWg&t=6506s\n",
        "Alex's Github for Power BI tutorial:\n",
        "https://github.com/AlexTheAnalyst/PowerBI/blob/main/"
      ],
      "metadata": {
        "id": "EhmsMWRaqoI4"
      }
    },
    {
      "cell_type": "markdown",
      "source": [
        "![Excell1.PNG](attachment:25070e93-2eda-4c10-bc66-221fc2c924c9.PNG)\n",
        "![BI1.PNG](attachment:669503c7-d8d0-43b5-9f84-b6a95fa790c2.PNG)"
      ],
      "metadata": {
        "id": "VK-PY18YqoI5"
      }
    }
  ]
}